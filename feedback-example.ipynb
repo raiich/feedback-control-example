{
 "cells": [
  {
   "cell_type": "markdown",
   "metadata": {},
   "source": [
    "## Feedback control parameter tuning\n",
    "\n",
    "This is the scikit-learn application for feedback control parameter (example of budget pacing)"
   ]
  },
  {
   "cell_type": "code",
   "execution_count": null,
   "metadata": {
    "scrolled": false
   },
   "outputs": [],
   "source": [
    "!pip install scikit-learn"
   ]
  },
  {
   "cell_type": "code",
   "execution_count": 2,
   "metadata": {},
   "outputs": [],
   "source": [
    "from collections import namedtuple\n",
    "\n",
    "History = namedtuple('History', ('last_clock', 'last_error'))\n",
    "\n",
    "\n",
    "class PidController(object):\n",
    "    def __init__(self, kp, ki, kd, clamp):\n",
    "        self.kp = kp\n",
    "        self.ki = ki\n",
    "        self.kd = kd\n",
    "        self.clamp = clamp\n",
    "        self.history = None\n",
    "        self.integral = 0.0\n",
    "\n",
    "    def computeOutput(self, current_clock, setpoint, process_variable):\n",
    "        error = setpoint - process_variable\n",
    "        if self.history:\n",
    "            dt = current_clock - self.history.last_clock\n",
    "            self.integral += error * dt\n",
    "            derivative = (error - self.history.last_error) / dt\n",
    "            ret = self.kp * error + self.ki * self.integral + self.kd * derivative\n",
    "        else:\n",
    "            ret = None\n",
    "        self.history = History(current_clock, error)\n",
    "        return ret\n",
    "\n",
    "class Actuator(object):\n",
    "    def __init__(self, initial_value):\n",
    "        self.value = initial_value\n",
    "\n",
    "    def next_input(self, output):\n",
    "        self.value += output\n",
    "        return self.value\n"
   ]
  },
  {
   "cell_type": "code",
   "execution_count": 3,
   "metadata": {},
   "outputs": [],
   "source": [
    "import random\n",
    "\n",
    "period = 1000000\n",
    "\n",
    "BidRequest = namedtuple('BidRequest', ('ts', 'threshold'))\n",
    "\n",
    "def expected_spent(total_budget, clock, period):\n",
    "    return total_budget * (clock / period)\n",
    "\n",
    "\n",
    "class AdExchange(object):\n",
    "    def __init__(self):\n",
    "        random.seed(0)\n",
    "\n",
    "    def generate_bid_requests(self):\n",
    "        current_clock = 0.0\n",
    "        while current_clock < period:\n",
    "            bid_request = BidRequest(current_clock, random.randrange(100))\n",
    "            current_clock += random.randint(2, 10)\n",
    "            yield bid_request\n",
    "\n",
    "\n",
    "class Bidder(object):\n",
    "    def __init__(self, total_budget, kp, ki, kd, clamp):\n",
    "        self.spent = 0\n",
    "        self.total_budget = total_budget\n",
    "        self.bid_price = 10\n",
    "        self.controller = PidController(kp, ki, kd, clamp)\n",
    "        self.actuator = Actuator(1)\n",
    "        random.seed(0)\n",
    "\n",
    "    def _spend(self):\n",
    "        self.spent += self.bid_price\n",
    "\n",
    "    def budget(self, bid_request):\n",
    "        if self.bid_price > bid_request.threshold:\n",
    "            self._spend()\n",
    "\n",
    "        current_clock = bid_request.ts\n",
    "        expected = expected_spent(self.total_budget, current_clock, period)\n",
    "        output = self.controller.computeOutput(current_clock, expected, self.spent)\n",
    "        if output:\n",
    "            self.bid_price = self.actuator.next_input(output)\n",
    "\n",
    "        return self.spent\n",
    "\n",
    "\n",
    "from sklearn.base import BaseEstimator, RegressorMixin\n",
    "\n",
    "class BidderWrapper(BaseEstimator, RegressorMixin):\n",
    "    def __init__(self, total_budget, kp=0, ki=0, kd=0, clamp=(0, 0)):\n",
    "        self.total_budget = total_budget\n",
    "        self.kp = kp\n",
    "        self.ki = ki\n",
    "        self.kd = kd\n",
    "        self.clamp = clamp\n",
    "\n",
    "    def fit(self, X, y):\n",
    "        self._reinitialize()\n",
    "        return self\n",
    "\n",
    "    def _reinitialize(self):\n",
    "        self.bidder = Bidder(self.total_budget, self.kp, self.ki, self.kd, self.clamp)\n",
    "\n",
    "    def predict(self, X):\n",
    "        return np.array([self.bidder.budget(bid_request) for bid_request in X])\n",
    "\n",
    "    def reset(self):\n",
    "        controller = self.bidder.controller\n",
    "        self.bidder = Bidder(self.bidder.total_budget, controller.kp, controller.ki, controller.kd, controller.clamp)\n"
   ]
  },
  {
   "cell_type": "code",
   "execution_count": 4,
   "metadata": {},
   "outputs": [],
   "source": [
    "total_budget = 1000000\n",
    "reqs = list(AdExchange().generate_bid_requests())\n",
    "label_dict = dict(map(lambda x: (x.ts, expected_spent(total_budget, x.ts, period)), reqs))\n",
    "labels = list(label_dict.values())"
   ]
  },
  {
   "cell_type": "code",
   "execution_count": 5,
   "metadata": {
    "scrolled": false
   },
   "outputs": [
    {
     "name": "stdout",
     "output_type": "stream",
     "text": [
      "{'clamp': (-0.9, 0.9), 'kd': 0.0018, 'ki': 2e-08, 'kp': 0.8}\n"
     ]
    }
   ],
   "source": [
    "import sys\n",
    "import numpy as np\n",
    "import matplotlib.pyplot as plt\n",
    "from sklearn.model_selection import GridSearchCV\n",
    "\n",
    "parameters = {\n",
    "    'kp': [8e-1, 9e-1],\n",
    "    'ki': [1e-8, 2e-8],\n",
    "    'kd': [1.9e-3, 1.8e-3],\n",
    "    'clamp': [(-0.9, 0.9)]\n",
    "}\n",
    "\n",
    "bidder = GridSearchCV(BidderWrapper(total_budget), parameters, cv=2)\n",
    "bidder.fit(reqs * 2, labels * 2)\n",
    "best = bidder.best_estimator_\n",
    "print(bidder.best_params_)"
   ]
  },
  {
   "cell_type": "code",
   "execution_count": 6,
   "metadata": {},
   "outputs": [],
   "source": [
    "%matplotlib inline\n",
    "import seaborn as sns"
   ]
  },
  {
   "cell_type": "code",
   "execution_count": 7,
   "metadata": {},
   "outputs": [
    {
     "data": {
      "image/png": "[encoded data removed]",
      "text/plain": [
       "<matplotlib.figure.Figure at 0x105da8e10>"
      ]
     },
     "metadata": {},
     "output_type": "display_data"
    }
   ],
   "source": [
    "import pandas as pd\n",
    "best.reset()\n",
    "\n",
    "rs = reqs[:500]\n",
    "ls = labels[:len(rs)]\n",
    "ts = list(map(lambda x: x.ts, rs))\n",
    "\n",
    "plt.figure(figsize=(16,4))\n",
    "plt.plot(ts, best.predict(rs), label='prediction')\n",
    "plt.plot(ts, ls, label='expected')\n",
    "\n",
    "plt.legend()\n",
    "plt.title(\"Budget Pacing\")\n",
    "plt.xlabel(\"clock\")\n",
    "plt.ylabel(\"total budget\")\n",
    "plt.show()\n"
   ]
  },
  {
   "cell_type": "code",
   "execution_count": null,
   "metadata": {},
   "outputs": [],
   "source": []
  }
 ],
 "metadata": {
  "kernelspec": {
   "display_name": "Python 3",
   "language": "python",
   "name": "python3"
  },
  "language_info": {
   "codemirror_mode": {
    "name": "ipython",
    "version": 3
   },
   "file_extension": ".py",
   "mimetype": "text/x-python",
   "name": "python",
   "nbconvert_exporter": "python",
   "pygments_lexer": "ipython3",
   "version": "3.6.0"
  }
 },
 "nbformat": 4,
 "nbformat_minor": 2
}
